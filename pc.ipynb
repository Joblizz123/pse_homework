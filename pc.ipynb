{
 "cells": [
  {
   "cell_type": "code",
   "execution_count": 2,
   "metadata": {},
   "outputs": [],
   "source": [
    "# Importing necessary libraries\n",
    "import numpy as np\n",
    "import pandas as pd\n",
    "import matplotlib.pyplot as plt\n",
    "import seaborn as sns\n",
    "import sklearn"
   ]
  },
  {
   "cell_type": "markdown",
   "metadata": {},
   "source": [
    "#### 2. LIST MANIPULATION"
   ]
  },
  {
   "cell_type": "code",
   "execution_count": 3,
   "metadata": {},
   "outputs": [
    {
     "name": "stdout",
     "output_type": "stream",
     "text": [
      "The maximum value in the list is: 87\n",
      "\n",
      "\n",
      "The maximum value in the list is: 3\n",
      "\n",
      "\n",
      "The sum of the list is: 215\n",
      "\n",
      "\n",
      "The sorted list is: [ 3  4  6 10 12 39 54 87]\n",
      "3\n",
      "4\n",
      "6\n",
      "10\n",
      "39\n",
      "87\n",
      "12\n",
      "54\n"
     ]
    }
   ],
   "source": [
    "list_a = [3, 4, 6, 10, 39, 87, 12, 54]\n",
    "list_a = np.array(list_a)\n",
    "# Maximum value of the list\n",
    "a_max = np.max(list_a)\n",
    "print('The maximum value in the list is:', a_max)\n",
    "# Minimum value of the list\n",
    "a_min = np.min(list_a)\n",
    "print('\\n')\n",
    "print('The maximum value in the list is:', a_min)\n",
    "# Sum of all the values in the list\n",
    "a_sum = np.sum(list_a)\n",
    "print('\\n')\n",
    "print('The sum of the list is:', a_sum)\n",
    "\n",
    "\n",
    "# Sorting the list\n",
    "sorted_list = np.sort(list_a)\n",
    "print('\\n')\n",
    "print('The sorted list is:', sorted_list)\n",
    "\n",
    "\n",
    "# A for loop\n",
    "for  i in range(0, len(list_a)):\n",
    "    print(list_a[i])"
   ]
  },
  {
   "cell_type": "markdown",
   "metadata": {},
   "source": [
    "3. PRIME NUMBER AND FACTOR"
   ]
  },
  {
   "cell_type": "code",
   "execution_count": 6,
   "metadata": {},
   "outputs": [
    {
     "name": "stdout",
     "output_type": "stream",
     "text": [
      "\n",
      "\n",
      "True\n",
      "True\n",
      "True\n",
      "True\n",
      "False\n",
      "False\n",
      "False\n",
      "True\n",
      "\n",
      "\n",
      "The prime numbers between 1 and 100 are: \n",
      "2 3 5 7 11 13 17 19 23 29 31 37 41 43 47 53 59 61 67 71 73 79 83 89 97 "
     ]
    }
   ],
   "source": [
    "def prime_number(n):\n",
    "    if n == 1:\n",
    "        return False\n",
    "    for i in range(2, n):\n",
    "        if n % i == 0:\n",
    "            return False\n",
    "    return True\n",
    "\n",
    "# Example\n",
    "print('\\n')\n",
    "integers = [3, 2, 7, 11, 15, 18, 9 , 13]\n",
    "\n",
    "for n in integers:\n",
    "    print(prime_number(n))\n",
    "\n",
    "# prime_number(5)\n",
    "print('\\n')\n",
    "print('The prime numbers between 1 and 100 are: ')\n",
    "for i in range(1, 100):\n",
    "    if prime_number(i):\n",
    "        print(i, end=' ')\n",
    "\n"
   ]
  },
  {
   "cell_type": "markdown",
   "metadata": {},
   "source": [
    "Prime Numbers below 1000"
   ]
  },
  {
   "cell_type": "code",
   "execution_count": 8,
   "metadata": {},
   "outputs": [
    {
     "name": "stdout",
     "output_type": "stream",
     "text": [
      "[2, 3, 5, 7, 11, 13, 17, 19, 23, 29, 31, 37, 41, 43, 47, 53, 59, 61, 67, 71, 73, 79, 83, 89, 97, 101, 103, 107, 109, 113, 127, 131, 137, 139, 149, 151, 157, 163, 167, 173, 179, 181, 191, 193, 197, 199, 211, 223, 227, 229, 233, 239, 241, 251, 257, 263, 269, 271, 277, 281, 283, 293, 307, 311, 313, 317, 331, 337, 347, 349, 353, 359, 367, 373, 379, 383, 389, 397, 401, 409, 419, 421, 431, 433, 439, 443, 449, 457, 461, 463, 467, 479, 487, 491, 499, 503, 509, 521, 523, 541, 547, 557, 563, 569, 571, 577, 587, 593, 599, 601, 607, 613, 617, 619, 631, 641, 643, 647, 653, 659, 661, 673, 677, 683, 691, 701, 709, 719, 727, 733, 739, 743, 751, 757, 761, 769, 773, 787, 797, 809, 811, 821, 823, 827, 829, 839, 853, 857, 859, 863, 877, 881, 883, 887, 907, 911, 919, 929, 937, 941, 947, 953, 967, 971, 977, 983, 991, 997]\n"
     ]
    }
   ],
   "source": [
    "def prime_numbers_custom(n):\n",
    "    \"\"\"Return a list of all prime numbers below n.\"\"\"\n",
    "    if n < 2:\n",
    "        return []\n",
    "    \n",
    "    primes = []\n",
    "    for num in range(2, n):  # Starting from 2 to n-1\n",
    "        is_prime = True\n",
    "        for i in range(2, int(num**0.5) + 1):  # Check divisibility up to sqrt(num)\n",
    "            if num % i == 0:\n",
    "                is_prime = False\n",
    "                break\n",
    "        if is_prime:\n",
    "            primes.append(num)\n",
    "    \n",
    "    return primes\n",
    "\n",
    "# For prime numbers below 1000 \n",
    "print(prime_numbers_custom(1000))\n"
   ]
  },
  {
   "cell_type": "markdown",
   "metadata": {},
   "source": [
    "4. Define a function to output a 3D (n×3×3) numpy array, where n is the input value (argument) of the function to control the length of the array, and data is the input value that determines what kind of data it contains"
   ]
  },
  {
   "cell_type": "code",
   "execution_count": 9,
   "metadata": {},
   "outputs": [],
   "source": [
    "def generate_3d_array(n, data='zero'):\n",
    "    if data == 'zero':\n",
    "        return np.zeros((n, 3, 3))\n",
    "    elif data == 'random':\n",
    "        return np.random.randint(1, 101, (n, 3, 3))\n",
    "    else:\n",
    "        raise ValueError(\"Invalid data type. Use 'zero' or 'random'.\")"
   ]
  },
  {
   "cell_type": "markdown",
   "metadata": {},
   "source": [
    "(b) Call the function for n=10 and populate the array with zeroes"
   ]
  },
  {
   "cell_type": "code",
   "execution_count": 10,
   "metadata": {},
   "outputs": [
    {
     "name": "stdout",
     "output_type": "stream",
     "text": [
      "Array with zeroes:\n",
      " [[[0. 0. 0.]\n",
      "  [0. 0. 0.]\n",
      "  [0. 0. 0.]]\n",
      "\n",
      " [[0. 0. 0.]\n",
      "  [0. 0. 0.]\n",
      "  [0. 0. 0.]]\n",
      "\n",
      " [[0. 0. 0.]\n",
      "  [0. 0. 0.]\n",
      "  [0. 0. 0.]]\n",
      "\n",
      " [[0. 0. 0.]\n",
      "  [0. 0. 0.]\n",
      "  [0. 0. 0.]]\n",
      "\n",
      " [[0. 0. 0.]\n",
      "  [0. 0. 0.]\n",
      "  [0. 0. 0.]]\n",
      "\n",
      " [[0. 0. 0.]\n",
      "  [0. 0. 0.]\n",
      "  [0. 0. 0.]]\n",
      "\n",
      " [[0. 0. 0.]\n",
      "  [0. 0. 0.]\n",
      "  [0. 0. 0.]]\n",
      "\n",
      " [[0. 0. 0.]\n",
      "  [0. 0. 0.]\n",
      "  [0. 0. 0.]]\n",
      "\n",
      " [[0. 0. 0.]\n",
      "  [0. 0. 0.]\n",
      "  [0. 0. 0.]]\n",
      "\n",
      " [[0. 0. 0.]\n",
      "  [0. 0. 0.]\n",
      "  [0. 0. 0.]]]\n"
     ]
    }
   ],
   "source": [
    "array_zeros = generate_3d_array(10, data='zero')\n",
    "print(\"Array with zeroes:\\n\", array_zeros)"
   ]
  },
  {
   "cell_type": "markdown",
   "metadata": {},
   "source": [
    "Call the function for n=5 and populate the array with random numbers between 1 and 100"
   ]
  },
  {
   "cell_type": "code",
   "execution_count": 11,
   "metadata": {},
   "outputs": [
    {
     "name": "stdout",
     "output_type": "stream",
     "text": [
      "Array with random numbers:\n",
      " [[[57 73 85]\n",
      "  [94 82 13]\n",
      "  [80 44 91]]\n",
      "\n",
      " [[29 98 14]\n",
      "  [87 74 33]\n",
      "  [41 36 92]]\n",
      "\n",
      " [[85 40 57]\n",
      "  [34 19  4]\n",
      "  [47 16 68]]\n",
      "\n",
      " [[82 48  4]\n",
      "  [15 81 12]\n",
      "  [18 12 91]]\n",
      "\n",
      " [[46 21  1]\n",
      "  [78 22 73]\n",
      "  [79 13 89]]]\n"
     ]
    }
   ],
   "source": [
    "array_random = generate_3d_array(5, data='random')\n",
    "print(\"Array with random numbers:\\n\", array_random)"
   ]
  },
  {
   "cell_type": "markdown",
   "metadata": {},
   "source": [
    "5. Solving the set of equations using linear algebra and numpy"
   ]
  },
  {
   "cell_type": "code",
   "execution_count": 12,
   "metadata": {},
   "outputs": [
    {
     "name": "stdout",
     "output_type": "stream",
     "text": [
      "a = -1.7, b = 1.9, c = -1.5\n"
     ]
    }
   ],
   "source": [
    "# Defining  the coefficients as  matrix A\n",
    "A = np.array([[3, 4, -5], \n",
    "              [0, 5, 1], \n",
    "              [1, 3, 6]])\n",
    "\n",
    "# Defining the right-hand side values as matrix B\n",
    "B = np.array([10, 8, -5])\n",
    "\n",
    "# Solving for x (a, b, c)\n",
    "solution = np.linalg.solve(A, B)\n",
    "\n",
    "# Print the solution\n",
    "a, b, c = solution\n",
    "print(f\"a = {a}, b = {b}, c = {c}\")\n"
   ]
  },
  {
   "cell_type": "markdown",
   "metadata": {},
   "source": [
    "6. Given an expression:\n",
    "\n",
    " y = 0.1x^3-x^2+5\n",
    "\n",
    " (a) Plot the function in the range of x from -5 to 5\n",
    " (b) Find the maximum and minimum value of this function and add them with points and labels on the same figure\n"
   ]
  },
  {
   "cell_type": "code",
   "execution_count": 13,
   "metadata": {},
   "outputs": [
    {
     "name": "stdout",
     "output_type": "stream",
     "text": [
      "[-32.5 -17.4  -6.7   0.2   3.9   5.    4.1   1.8  -1.3  -4.6  -7.5]\n"
     ]
    },
    {
     "data": {
      "image/png": "[encoded data removed]",
      "text/plain": [
       "<Figure size 640x480 with 1 Axes>"
      ]
     },
     "metadata": {},
     "output_type": "display_data"
    }
   ],
   "source": [
    "# Defining the function for plotting\n",
    "\n",
    "def function(x):\n",
    "    return 0.1*x**3 - x**2 + 5\n",
    "\n",
    "\n",
    "# Defining the range of x values\n",
    "x = np.arange(-5, 6, 1)\n",
    "\n",
    "y = function(x)\n",
    "print(y)\n",
    "\n",
    "# Maximum value of y\n",
    "y_max = np.max(y)\n",
    "\n",
    "# Minimum value of y\n",
    "y_min = np.min(y)\n",
    "\n",
    "x_max = x[np.argmax(y)]  # x-value of global maximum\n",
    "x_min = x[np.argmin(y)]  # x-value of global minimum\n",
    "\n",
    "\n",
    "\n",
    "\n",
    "# Plot min points\n",
    "plt.plot(x, y, color='green', label='y = 0.1*x**3 - x**2 +5', zorder=2)\n",
    "\n",
    "# Plotting  max point\n",
    "plt.scatter(x_max, y_max, color='red', label='Maxima', zorder=3)\n",
    "\n",
    "# Plotting min point\n",
    "plt.scatter(x_min, y_min, color='blue', label='Minima', zorder=3)\n",
    "plt.xlabel('x-axis')\n",
    "plt.ylabel('y-axis')\n",
    "plt\n",
    "plt.title('Graph of y = 0.1*x**3 - x**2 +5 against x')\n",
    "plt.legend(loc='best');\n"
   ]
  },
  {
   "cell_type": "code",
   "execution_count": null,
   "metadata": {},
   "outputs": [],
   "source": []
  }
 ],
 "metadata": {
  "kernelspec": {
   "display_name": "base",
   "language": "python",
   "name": "python3"
  },
  "language_info": {
   "codemirror_mode": {
    "name": "ipython",
    "version": 3
   },
   "file_extension": ".py",
   "mimetype": "text/x-python",
   "name": "python",
   "nbconvert_exporter": "python",
   "pygments_lexer": "ipython3",
   "version": "3.11.5"
  }
 },
 "nbformat": 4,
 "nbformat_minor": 2
}
